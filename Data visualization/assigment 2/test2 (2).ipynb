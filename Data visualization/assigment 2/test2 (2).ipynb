{
 "cells": [
  {
   "cell_type": "code",
   "execution_count": 3,
   "id": "a4837a05-afd2-45ef-9fd2-7e6e21ee7f1a",
   "metadata": {},
   "outputs": [
    {
     "ename": "KeyError",
     "evalue": "'Fitness'",
     "output_type": "error",
     "traceback": [
      "\u001b[1;31m---------------------------------------------------------------------------\u001b[0m",
      "\u001b[1;31mKeyError\u001b[0m                                  Traceback (most recent call last)",
      "Cell \u001b[1;32mIn[3], line 22\u001b[0m\n\u001b[0;32m     20\u001b[0m \u001b[38;5;66;03m# Create a bar chart of the mean fitness score for each product line\u001b[39;00m\n\u001b[0;32m     21\u001b[0m plt\u001b[38;5;241m.\u001b[39mfigure(figsize\u001b[38;5;241m=\u001b[39m(\u001b[38;5;241m8\u001b[39m, \u001b[38;5;241m6\u001b[39m))\n\u001b[1;32m---> 22\u001b[0m plt\u001b[38;5;241m.\u001b[39mbar(product_means\u001b[38;5;241m.\u001b[39mkeys(), \u001b[43mproduct_means\u001b[49m\u001b[43m[\u001b[49m\u001b[38;5;124;43m'\u001b[39;49m\u001b[38;5;124;43mFitness\u001b[39;49m\u001b[38;5;124;43m'\u001b[39;49m\u001b[43m]\u001b[49m, yerr\u001b[38;5;241m=\u001b[39mproduct_stds[\u001b[38;5;124m'\u001b[39m\u001b[38;5;124mFitness\u001b[39m\u001b[38;5;124m'\u001b[39m])\n\u001b[0;32m     23\u001b[0m plt\u001b[38;5;241m.\u001b[39mxlabel(\u001b[38;5;124m'\u001b[39m\u001b[38;5;124mProduct\u001b[39m\u001b[38;5;124m'\u001b[39m)\n\u001b[0;32m     24\u001b[0m plt\u001b[38;5;241m.\u001b[39mylabel(\u001b[38;5;124m'\u001b[39m\u001b[38;5;124mMean Fitness Score\u001b[39m\u001b[38;5;124m'\u001b[39m)\n",
      "\u001b[1;31mKeyError\u001b[0m: 'Fitness'"
     ]
    },
    {
     "data": {
      "text/plain": [
       "<Figure size 800x600 with 0 Axes>"
      ]
     },
     "metadata": {},
     "output_type": "display_data"
    }
   ],
   "source": [
    "import pandas as pd\n",
    "import numpy as np\n",
    "import matplotlib.pyplot as plt\n",
    "\n",
    "# Load the CardioGoodFitness customer data\n",
    "df = pd.read_csv('CardioGoodFitness.csv')\n",
    "\n",
    "# Create customer profiles for each product line\n",
    "product_profiles = {}\n",
    "for product in ['TM195', 'TM498', 'TM798']:\n",
    "    product_profiles[product] = df[df['Product'] == product].describe()\n",
    "\n",
    "# Calculate the mean and standard deviation of each customer characteristic for each product line\n",
    "product_means = {}\n",
    "product_stds = {}\n",
    "for product, profile in product_profiles.items():\n",
    "    product_means[product] = profile.loc['mean'].to_numpy()\n",
    "    product_stds[product] = profile.loc['std'].to_numpy()\n",
    "\n",
    "# Create a bar chart of the mean fitness score for each product line\n",
    "plt.figure(figsize=(8, 6))\n",
    "plt.bar(product_means.keys(), product_means['Fitness'], yerr=product_stds['Fitness'])\n",
    "plt.xlabel('Product')\n",
    "plt.ylabel('Mean Fitness Score')\n",
    "plt.title('Mean Fitness Score by Product Line')\n",
    "plt.show()\n"
   ]
  },
  {
   "cell_type": "code",
   "execution_count": null,
   "id": "d9e67539-c62b-4fca-b6c4-f38f8333b0d6",
   "metadata": {},
   "outputs": [],
   "source": []
  },
  {
   "cell_type": "code",
   "execution_count": null,
   "id": "d08a74e7-54a2-49af-bc65-e6899e005d22",
   "metadata": {},
   "outputs": [],
   "source": []
  }
 ],
 "metadata": {
  "kernelspec": {
   "display_name": "Python 3 (ipykernel)",
   "language": "python",
   "name": "python3"
  },
  "language_info": {
   "codemirror_mode": {
    "name": "ipython",
    "version": 3
   },
   "file_extension": ".py",
   "mimetype": "text/x-python",
   "name": "python",
   "nbconvert_exporter": "python",
   "pygments_lexer": "ipython3",
   "version": "3.10.9"
  }
 },
 "nbformat": 4,
 "nbformat_minor": 5
}
